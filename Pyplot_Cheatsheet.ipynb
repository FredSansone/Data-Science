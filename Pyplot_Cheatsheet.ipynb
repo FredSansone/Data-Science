{
  "nbformat": 4,
  "nbformat_minor": 0,
  "metadata": {
    "colab": {
      "name": "Pyplot Cheatsheet.ipynb",
      "provenance": [],
      "authorship_tag": "ABX9TyMEGmtrqklBNhLtlBOK+VKd"
    },
    "kernelspec": {
      "name": "python3",
      "display_name": "Python 3"
    },
    "language_info": {
      "name": "python"
    }
  },
  "cells": [
    {
      "cell_type": "code",
      "metadata": {
        "colab": {
          "base_uri": "https://localhost:8080/",
          "height": 463
        },
        "id": "3C929l3WHPXy",
        "outputId": "44ecb771-92b7-4186-a214-4dbdb6d9f572"
      },
      "source": [
        "import matplotlib.pyplot as plt\n",
        "\n",
        "# various types of plots\n",
        "plt.plot()# classical line plot\n",
        "plt.scatter()# plot dots in correspondence of values\n",
        "plt.hist()# plot hisstograms\n",
        "plt.bar()# almost the same as plt.hist. Not clear about the difference up to now.\n",
        "\n",
        "# add extra features\n",
        "plt.xlabel('Independent variable')\n",
        "plt.ylabel('Dependent variable')\n",
        "plt.legend()# requires \"label = <String>\" as optional parameter of data in plt.plot() & Co.\n",
        "plt.title('Whatever')\n",
        "plt.grid()# lots of optional parameters:\n",
        "plt.grid(axis = \"y\", alpha = .3, zorder = 0)# horizontal grid only, rather faint lines,\n",
        "# zorder specifies the order in which features of plot are stacked on one another \n",
        "# (hence what is visible and what is hidden underneath in the event of a \"crossing\").\n",
        "# For some mysterious reasons, it's better to exaggerate the intervals between consecutive zorder values,\n",
        "# e.g. {zorder = 0, zorder = 3, zorder = 6} instead of {zorder = 0, zorder = 1, zorder = 2}\n",
        "#\n",
        "\n",
        "# set plot dimensions\n",
        "plt.figure(figsize=(8,4))# put it before the other instructions\n",
        "\n",
        "# miscellaneous\n",
        "plt.xticks(rotation = 30, horizontalalignment = \"right\")# in a bar plot, rotates the labels of the\n",
        "# indices, so that they occupy less space\n",
        "#\n",
        "plt.hlines(y = <number or sequence>, xmin = <number>, xmax = <number>)# Plot horizontal lines at each y from xmin to xmax\n",
        "\n",
        "# finally, when the plot is ready,\n",
        "plt.show()# to print the plot\n",
        "plt.savefig('whatever.png')# to save the plot"
      ],
      "execution_count": 2,
      "outputs": [
        {
          "output_type": "error",
          "ename": "TypeError",
          "evalue": "ignored",
          "traceback": [
            "\u001b[0;31m---------------------------------------------------------------------------\u001b[0m",
            "\u001b[0;31mTypeError\u001b[0m                                 Traceback (most recent call last)",
            "\u001b[0;32m<ipython-input-2-73bcff95641d>\u001b[0m in \u001b[0;36m<module>\u001b[0;34m()\u001b[0m\n\u001b[1;32m      2\u001b[0m \u001b[0;34m\u001b[0m\u001b[0m\n\u001b[1;32m      3\u001b[0m \u001b[0mplt\u001b[0m\u001b[0;34m.\u001b[0m\u001b[0mplot\u001b[0m\u001b[0;34m(\u001b[0m\u001b[0;34m)\u001b[0m\u001b[0;34m\u001b[0m\u001b[0;34m\u001b[0m\u001b[0m\n\u001b[0;32m----> 4\u001b[0;31m \u001b[0mplt\u001b[0m\u001b[0;34m.\u001b[0m\u001b[0mscatter\u001b[0m\u001b[0;34m(\u001b[0m\u001b[0;34m)\u001b[0m\u001b[0;34m\u001b[0m\u001b[0;34m\u001b[0m\u001b[0m\n\u001b[0m\u001b[1;32m      5\u001b[0m \u001b[0mplt\u001b[0m\u001b[0;34m.\u001b[0m\u001b[0mhist\u001b[0m\u001b[0;34m(\u001b[0m\u001b[0;34m)\u001b[0m\u001b[0;34m\u001b[0m\u001b[0;34m\u001b[0m\u001b[0m\n",
            "\u001b[0;31mTypeError\u001b[0m: scatter() missing 2 required positional arguments: 'x' and 'y'"
          ]
        },
        {
          "output_type": "display_data",
          "data": {
            "image/png": "[encoded data removed]",
            "text/plain": [
              "<Figure size 432x288 with 1 Axes>"
            ]
          },
          "metadata": {
            "tags": [],
            "needs_background": "light"
          }
        }
      ]
    }
  ]
}