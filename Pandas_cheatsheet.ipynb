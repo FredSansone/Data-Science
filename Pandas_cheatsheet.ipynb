{
  "nbformat": 4,
  "nbformat_minor": 0,
  "metadata": {
    "colab": {
      "name": "Pandas_cheatsheet.ipynb",
      "provenance": [],
      "collapsed_sections": [],
      "authorship_tag": "ABX9TyOkUFomroq/dE6mtm33oC2+"
    },
    "kernelspec": {
      "name": "python3",
      "display_name": "Python 3"
    },
    "language_info": {
      "name": "python"
    }
  },
  "cells": [
    {
      "cell_type": "markdown",
      "metadata": {
        "id": "coQpLoUJ8kqh"
      },
      "source": [
        "# ***DATABASES WITH PYTHON CHEATSHEET***\n",
        "\n",
        "---\n",
        "\n"
      ]
    },
    {
      "cell_type": "markdown",
      "metadata": {
        "id": "1qDAMTgN8iEb"
      },
      "source": [
        "the library \n",
        "`pandas` provides open source data analysis and manipulation tools.\n",
        "\n"
      ]
    },
    {
      "cell_type": "code",
      "metadata": {
        "colab": {
          "base_uri": "https://localhost:8080/"
        },
        "id": "uD4JVV_N9b8w",
        "outputId": "0ef23990-0223-4fba-ea0f-d1663969b21c"
      },
      "source": [
        "import pandas as pd\n",
        "\n",
        "filename = \"https://raw.githubusercontent.com/FredSansone/Data-Science/main/diabetes-train.csv\"\n",
        "# read_csv can be passed directly an URL\n",
        "data_frame = pd.read_csv(filename) # stores a csv file in the object 'data_frame'\n",
        "# note that read_csv can be passed directly an URL\n",
        "data_frame # visualises the data frame on screen (or a portion thereof if the df is too big)\n",
        "data_frame.shape # visualises data frame format as (<number of rows>,<number of cols>)\n",
        "\n",
        "data_frame.columns # To see the name of all columns\n",
        "data_frame.age[range(190,194)] # the columns are attributes of the data frame\n",
        "\n",
        "sub_df = data_frame[(data_frame.age>50) & (data_frame.diabetes==1)] # select sub-data frame based on conditions...\n",
        "#                                                                 ... each condition should be in ()\n",
        "\n",
        "max(data_frame[\"age\"]) # two ways to get statistics, and to call specific columns\n",
        "data_frame.age.max()\n",
        "\n",
        "data_frame.nlargest(10, ['bmi']) # the 10 rows with largest value in 'bmi' col\n",
        "data_frame.nlargest(10, ['bmi','age']) # the 10 rows with largest value in 'bmi' col, with largest 'age' in case of a tie\n",
        "\n",
        "data_frame.iloc[[0]] # {equiv: data_frame.iloc[[0],:]} sub-data frame of the row in position 0 (DataFrame type)\n",
        "data_frame.iloc[0] # {equiv: data_frame.iloc[0,:]} gives same result, but in different format (Series type)\n",
        "data_frame.iloc[0:10] # lines in range 0 to 9 (DataFrame type) (Python excludes upper extremum)\n",
        "# data_frame.iloc[[0:10]] gives syntax error\n",
        "data_frame.iloc[[0,2,4,1]] # lines 0,2,4,1 (DataFrame type)\n",
        "data_frame.iloc[0,2] # entry 2 of Series line 0 (int64 type)\n",
        "data_frame.iloc[[0,2,4,1,-1], [1,2,-2,-1]] # -k = row/col k from end (DataFrame type)\n",
        "data_frame.iloc[:, 1:-1] # cols 1 to 2nd-to-last (DataFrame type) (Python excludes upper extremum)\n",
        "data_frame.iloc[[*list(range(0, 4)), 6, 7]] # combine slices and lists as indices for iloc\n",
        "# data_frame.iloc[[0:4, 6, 7] gives syntax error; must convert the slice 0:4 to a list; the * de-lists the inner list: \n",
        "# compare the following:\n",
        "# [list(range(0,4)),6,7]# OUTPUT [[0, 1, 2, 3], 6, 7]\n",
        "# [*list(range(0, 4)), 6, 7]# OUTPUT [0, 1, 2, 3, 6, 7]\n",
        "\n",
        "data_frame.groupby(\"age\")[\"bmi\"].mean() # groups all the rows with same 'age' into one weird object,\n",
        "# then computes the mean of the 'bmi' for each value of 'age'\n",
        "\n",
        "agebins = pd.cut(data_frame[\"age\"], bins=3, labels=(\"young\", \"mid age\", \"elderly\")) # discretises the series data_frame[\"age\"] \n",
        "# into 3 congruent bins, and gives bins ordered labels (Series type)\n",
        "data_frame[[\"blood_pressure\"]].groupby(agebins).agg([\"mean\", \"median\", \"max\"]) # df with indexes given by agebins and 3 cols made\n",
        "# of bin statistics for 'blood_pressure' (DataFrame type)\n",
        "\n",
        "data_frame[data_frame.bmi > 40].p_id.count() # self-explanatory; same as data_frame[data_frame.bmi > 40].<any col>.count()\n",
        "# data_frame[data_frame.bmi > 40].count() (with no col) gives counts for each column"
      ],
      "execution_count": null,
      "outputs": [
        {
          "output_type": "execute_result",
          "data": {
            "text/plain": [
              "80"
            ]
          },
          "metadata": {
            "tags": []
          },
          "execution_count": 1
        }
      ]
    },
    {
      "cell_type": "markdown",
      "metadata": {
        "id": "hSo5RoniRsWB"
      },
      "source": [
        "Nice code to get all the possible combinations of the columns of a data frame:"
      ]
    },
    {
      "cell_type": "code",
      "metadata": {
        "id": "VZaVMe_u9soE"
      },
      "source": [
        "import itertools\n",
        "\n",
        "cols = data_frame.columns # or a selection of columns\n",
        "for L in range(1, len(cols)+1):# for each cardinality between 1 and the number of columns of the data frame...\n",
        "    for subset in itertools.combinations(cols, L): # ...for each subset of columns of that cardinality...\n",
        "      cols_to_use = list(subset) # ...convert that subset to a list (so that it can be given as argument to the data frame)...\n",
        "      sub_df = data_frame[cols_to_use] # ...get the sub-data frame corresponding to that list of columns\n",
        "      # then do what you want to do with the selected columns, e.g.\n",
        "      print(sub_df.iloc[[0]],\"\\n\\n\")\n",
        "      \n"
      ],
      "execution_count": null,
      "outputs": []
    },
    {
      "cell_type": "markdown",
      "metadata": {
        "id": "94zhp0CoPrss"
      },
      "source": [
        "Less silly example of usage of the above: find the best choice of parameters in a regression analysis"
      ]
    },
    {
      "cell_type": "code",
      "metadata": {
        "id": "iz0iNqApPXQN"
      },
      "source": [
        "import numpy as np\n",
        "from sklearn.model_selection import cross_val_score\n",
        "from sklearn.model_selection import cross_validate\n",
        "from sklearn.linear_model import LinearRegression\n",
        "import statsmodels.api as sm\n",
        "\n",
        "record_of_vars = np.array([]) # initialization\n",
        "record_of_Rsq = np.array([])\n",
        "record_of_cv = np.array([])\n",
        "\n",
        "dep_var = \"diabetes\" # or data_frame.columns[9]\n",
        "y = data_frame[dep_var]\n",
        "ind_var = data_frame.columns[1:9] # select the relevant columns to test as independent variables\n",
        "\n",
        "for L in range(1, len(cols)+1):\n",
        "    for subset in itertools.combinations(ind_var, L):\n",
        "      vars_to_use = list(subset)\n",
        "      X = data_frame[vars_to_use]\n",
        "\n",
        "      record_of_vars = np.append(record_of_vars, \", \".join(vars_to_use))# records the choice of...\n",
        "      # ...ind vars (\", \".join(x) puts \", \" in between each element of x and makes it a single string)\n",
        "\n",
        "      model = sm.OLS(y, sm.add_constant(X)).fit() # ordinary least squares of y vs X\n",
        "      Rsq = model.rsquared_adj # the adjusted R^2, i.e. with penalty for using more variables\n",
        "      record_of_Rsq = np.append(record_of_Rsq, Rsq)\n",
        "\n",
        "      cv_scores = cross_val_score(LinearRegression(), X, y, cv = 5) # cv is the number of partitions\n",
        "      cv = np.mean(cv_scores)\n",
        "      record_of_cv = np.append(record_of_cv, cv)\n",
        "\n",
        "allData = pd.DataFrame({\"columns\": record_of_vars, \"Rsq\": record_of_Rsq, \"cv\": record_of_cv})\n",
        "# creates a data frame with the syntax {<name of col 1>:<values of col 1>, ... , <name of col k>:<values of col k>}\n",
        "\n",
        "\n",
        "\n"
      ],
      "execution_count": null,
      "outputs": []
    },
    {
      "cell_type": "markdown",
      "metadata": {
        "id": "PqVfg5AfZMAD"
      },
      "source": [
        "Note that in this case the dependent variable is binary, so a linear regression is not appropriate; a logistic regression would be much better!"
      ]
    },
    {
      "cell_type": "code",
      "metadata": {
        "colab": {
          "base_uri": "https://localhost:8080/",
          "height": 545
        },
        "id": "TfvHhHVZQR-t",
        "outputId": "2d0cb650-d9c6-4bde-e940-54f13bb6cad1"
      },
      "source": [
        "interestingData = allData[(allData.Rsq >.28) & (allData.cv >.2)]\n",
        "interestingData"
      ],
      "execution_count": null,
      "outputs": [
        {
          "output_type": "execute_result",
          "data": {
            "text/html": [
              "<div>\n",
              "<style scoped>\n",
              "    .dataframe tbody tr th:only-of-type {\n",
              "        vertical-align: middle;\n",
              "    }\n",
              "\n",
              "    .dataframe tbody tr th {\n",
              "        vertical-align: top;\n",
              "    }\n",
              "\n",
              "    .dataframe thead th {\n",
              "        text-align: right;\n",
              "    }\n",
              "</style>\n",
              "<table border=\"1\" class=\"dataframe\">\n",
              "  <thead>\n",
              "    <tr style=\"text-align: right;\">\n",
              "      <th></th>\n",
              "      <th>columns</th>\n",
              "      <th>Rsq</th>\n",
              "      <th>cv</th>\n",
              "    </tr>\n",
              "  </thead>\n",
              "  <tbody>\n",
              "    <tr>\n",
              "      <th>104</th>\n",
              "      <td>no_times_pregnant, glucose_concentration, bmi,...</td>\n",
              "      <td>0.281415</td>\n",
              "      <td>0.263081</td>\n",
              "    </tr>\n",
              "    <tr>\n",
              "      <th>169</th>\n",
              "      <td>no_times_pregnant, glucose_concentration, bloo...</td>\n",
              "      <td>0.285907</td>\n",
              "      <td>0.266941</td>\n",
              "    </tr>\n",
              "    <tr>\n",
              "      <th>175</th>\n",
              "      <td>no_times_pregnant, glucose_concentration, skin...</td>\n",
              "      <td>0.282487</td>\n",
              "      <td>0.261455</td>\n",
              "    </tr>\n",
              "    <tr>\n",
              "      <th>178</th>\n",
              "      <td>no_times_pregnant, glucose_concentration, seru...</td>\n",
              "      <td>0.283631</td>\n",
              "      <td>0.262133</td>\n",
              "    </tr>\n",
              "    <tr>\n",
              "      <th>181</th>\n",
              "      <td>no_times_pregnant, glucose_concentration, bmi,...</td>\n",
              "      <td>0.281534</td>\n",
              "      <td>0.255647</td>\n",
              "    </tr>\n",
              "    <tr>\n",
              "      <th>221</th>\n",
              "      <td>no_times_pregnant, glucose_concentration, bloo...</td>\n",
              "      <td>0.286193</td>\n",
              "      <td>0.265266</td>\n",
              "    </tr>\n",
              "    <tr>\n",
              "      <th>224</th>\n",
              "      <td>no_times_pregnant, glucose_concentration, bloo...</td>\n",
              "      <td>0.287957</td>\n",
              "      <td>0.266402</td>\n",
              "    </tr>\n",
              "    <tr>\n",
              "      <th>227</th>\n",
              "      <td>no_times_pregnant, glucose_concentration, bloo...</td>\n",
              "      <td>0.287273</td>\n",
              "      <td>0.259156</td>\n",
              "    </tr>\n",
              "    <tr>\n",
              "      <th>228</th>\n",
              "      <td>no_times_pregnant, glucose_concentration, skin...</td>\n",
              "      <td>0.283096</td>\n",
              "      <td>0.260586</td>\n",
              "    </tr>\n",
              "    <tr>\n",
              "      <th>231</th>\n",
              "      <td>no_times_pregnant, glucose_concentration, skin...</td>\n",
              "      <td>0.282172</td>\n",
              "      <td>0.253538</td>\n",
              "    </tr>\n",
              "    <tr>\n",
              "      <th>232</th>\n",
              "      <td>no_times_pregnant, glucose_concentration, seru...</td>\n",
              "      <td>0.283412</td>\n",
              "      <td>0.254024</td>\n",
              "    </tr>\n",
              "    <tr>\n",
              "      <th>246</th>\n",
              "      <td>no_times_pregnant, glucose_concentration, bloo...</td>\n",
              "      <td>0.287034</td>\n",
              "      <td>0.264937</td>\n",
              "    </tr>\n",
              "    <tr>\n",
              "      <th>249</th>\n",
              "      <td>no_times_pregnant, glucose_concentration, bloo...</td>\n",
              "      <td>0.286994</td>\n",
              "      <td>0.256703</td>\n",
              "    </tr>\n",
              "    <tr>\n",
              "      <th>250</th>\n",
              "      <td>no_times_pregnant, glucose_concentration, bloo...</td>\n",
              "      <td>0.288833</td>\n",
              "      <td>0.258014</td>\n",
              "    </tr>\n",
              "    <tr>\n",
              "      <th>251</th>\n",
              "      <td>no_times_pregnant, glucose_concentration, skin...</td>\n",
              "      <td>0.282706</td>\n",
              "      <td>0.252116</td>\n",
              "    </tr>\n",
              "    <tr>\n",
              "      <th>254</th>\n",
              "      <td>no_times_pregnant, glucose_concentration, bloo...</td>\n",
              "      <td>0.287743</td>\n",
              "      <td>0.255882</td>\n",
              "    </tr>\n",
              "  </tbody>\n",
              "</table>\n",
              "</div>"
            ],
            "text/plain": [
              "                                               columns       Rsq        cv\n",
              "104  no_times_pregnant, glucose_concentration, bmi,...  0.281415  0.263081\n",
              "169  no_times_pregnant, glucose_concentration, bloo...  0.285907  0.266941\n",
              "175  no_times_pregnant, glucose_concentration, skin...  0.282487  0.261455\n",
              "178  no_times_pregnant, glucose_concentration, seru...  0.283631  0.262133\n",
              "181  no_times_pregnant, glucose_concentration, bmi,...  0.281534  0.255647\n",
              "221  no_times_pregnant, glucose_concentration, bloo...  0.286193  0.265266\n",
              "224  no_times_pregnant, glucose_concentration, bloo...  0.287957  0.266402\n",
              "227  no_times_pregnant, glucose_concentration, bloo...  0.287273  0.259156\n",
              "228  no_times_pregnant, glucose_concentration, skin...  0.283096  0.260586\n",
              "231  no_times_pregnant, glucose_concentration, skin...  0.282172  0.253538\n",
              "232  no_times_pregnant, glucose_concentration, seru...  0.283412  0.254024\n",
              "246  no_times_pregnant, glucose_concentration, bloo...  0.287034  0.264937\n",
              "249  no_times_pregnant, glucose_concentration, bloo...  0.286994  0.256703\n",
              "250  no_times_pregnant, glucose_concentration, bloo...  0.288833  0.258014\n",
              "251  no_times_pregnant, glucose_concentration, skin...  0.282706  0.252116\n",
              "254  no_times_pregnant, glucose_concentration, bloo...  0.287743  0.255882"
            ]
          },
          "metadata": {
            "tags": []
          },
          "execution_count": 20
        }
      ]
    },
    {
      "cell_type": "markdown",
      "metadata": {
        "id": "gx_IkDUSbTSm"
      },
      "source": [
        "Useful commands to work with series:"
      ]
    },
    {
      "cell_type": "code",
      "metadata": {
        "id": "7CVHv4VBNqFf",
        "colab": {
          "base_uri": "https://localhost:8080/"
        },
        "outputId": "0cca6eb0-eb26-4926-ad56-54bc5f5ca0ad"
      },
      "source": [
        "occurrences = data_frame[\"age\"].value_counts() # counts the occurrences of each value of the col \"age\" (Series type)\n",
        "# the occurrences are sorted by descending value. \n",
        "sortedOccurrences = occurrences.sort_index() # this re-sorts by ascending index\n",
        "#.sort_index(ascending = False) sorts by descending index\n",
        "#.sort_values(ascending = True) sorts by ascending values\n",
        "sortedOccurrences"
      ],
      "execution_count": null,
      "outputs": [
        {
          "output_type": "execute_result",
          "data": {
            "text/plain": [
              "21    48\n",
              "22    56\n",
              "23    36\n",
              "24    37\n",
              "25    39\n",
              "26    26\n",
              "27    26\n",
              "28    26\n",
              "29    25\n",
              "30    17\n",
              "31    19\n",
              "32    12\n",
              "33    15\n",
              "34     7\n",
              "35     7\n",
              "36    13\n",
              "37    17\n",
              "38    11\n",
              "39    10\n",
              "40     9\n",
              "41    16\n",
              "42    13\n",
              "43    10\n",
              "44     7\n",
              "45    15\n",
              "46    11\n",
              "47     6\n",
              "48     4\n",
              "49     4\n",
              "50     7\n",
              "51     5\n",
              "52     7\n",
              "53     4\n",
              "54     5\n",
              "55     3\n",
              "56     3\n",
              "57     4\n",
              "58     4\n",
              "59     3\n",
              "60     3\n",
              "61     2\n",
              "62     3\n",
              "63     4\n",
              "64     1\n",
              "65     2\n",
              "66     3\n",
              "67     3\n",
              "68     1\n",
              "69     2\n",
              "70     1\n",
              "72     1\n",
              "81     1\n",
              "Name: age, dtype: int64"
            ]
          },
          "metadata": {
            "tags": []
          },
          "execution_count": 34
        }
      ]
    },
    {
      "cell_type": "code",
      "metadata": {
        "colab": {
          "base_uri": "https://localhost:8080/",
          "height": 142
        },
        "id": "KHnl2DfGew22",
        "outputId": "27d3f050-6878-4a1d-b57c-530b00d26d9e"
      },
      "source": [
        "left = pd.DataFrame({'key': ['foo', 'bar'], 'lval': [1, 2]})\n",
        "right = pd.DataFrame({'key': ['foo', 'foo', 'bar'], 'rval': [3, 4, 5]})\n",
        "pd.merge(left, right, on='key')"
      ],
      "execution_count": null,
      "outputs": [
        {
          "output_type": "execute_result",
          "data": {
            "text/html": [
              "<div>\n",
              "<style scoped>\n",
              "    .dataframe tbody tr th:only-of-type {\n",
              "        vertical-align: middle;\n",
              "    }\n",
              "\n",
              "    .dataframe tbody tr th {\n",
              "        vertical-align: top;\n",
              "    }\n",
              "\n",
              "    .dataframe thead th {\n",
              "        text-align: right;\n",
              "    }\n",
              "</style>\n",
              "<table border=\"1\" class=\"dataframe\">\n",
              "  <thead>\n",
              "    <tr style=\"text-align: right;\">\n",
              "      <th></th>\n",
              "      <th>key</th>\n",
              "      <th>lval</th>\n",
              "      <th>rval</th>\n",
              "    </tr>\n",
              "  </thead>\n",
              "  <tbody>\n",
              "    <tr>\n",
              "      <th>0</th>\n",
              "      <td>foo</td>\n",
              "      <td>1</td>\n",
              "      <td>3</td>\n",
              "    </tr>\n",
              "    <tr>\n",
              "      <th>1</th>\n",
              "      <td>foo</td>\n",
              "      <td>1</td>\n",
              "      <td>4</td>\n",
              "    </tr>\n",
              "    <tr>\n",
              "      <th>2</th>\n",
              "      <td>bar</td>\n",
              "      <td>2</td>\n",
              "      <td>5</td>\n",
              "    </tr>\n",
              "  </tbody>\n",
              "</table>\n",
              "</div>"
            ],
            "text/plain": [
              "   key  lval  rval\n",
              "0  foo     1     3\n",
              "1  foo     1     4\n",
              "2  bar     2     5"
            ]
          },
          "metadata": {
            "tags": []
          },
          "execution_count": 40
        }
      ]
    }
  ]
}